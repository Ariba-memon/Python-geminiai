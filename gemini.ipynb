{
  "nbformat": 4,
  "nbformat_minor": 0,
  "metadata": {
    "colab": {
      "provenance": [],
      "authorship_tag": "ABX9TyMpA4IthGMlcfCIRh0gH7G2",
      "include_colab_link": true
    },
    "kernelspec": {
      "name": "python3",
      "display_name": "Python 3"
    },
    "language_info": {
      "name": "python"
    }
  },
  "cells": [
    {
      "cell_type": "markdown",
      "metadata": {
        "id": "view-in-github",
        "colab_type": "text"
      },
      "source": [
        "<a href=\"https://colab.research.google.com/github/Ariba-memon/Python-geminiai/blob/master/gemini.ipynb\" target=\"_parent\"><img src=\"https://colab.research.google.com/assets/colab-badge.svg\" alt=\"Open In Colab\"/></a>"
      ]
    },
    {
      "cell_type": "code",
      "execution_count": null,
      "metadata": {
        "colab": {
          "base_uri": "https://localhost:8080/",
          "height": 263
        },
        "id": "hxF4IZ-N-jPo",
        "outputId": "1770a979-8ca3-4ffc-85f3-a3d3ecd4a9f9"
      },
      "outputs": [
        {
          "output_type": "stream",
          "name": "stdout",
          "text": [
            "Allama Muhammad Iqbal (November 9, 1877 – April 21, 1938), commonly known as Allama Iqbal, was a Muslim poet, philosopher, and politician from the Punjab region of British India (now in Pakistan). He is widely regarded as one of the most important figures in Urdu literature, and a key figure in the development of the Pakistan Movement, which led to the creation of Pakistan in 1947.\n",
            "\n",
            "Iqbal was born in Sialkot, Punjab, British India, and received his early education there. He later studied at the Government College Lahore, where he came under the influence of Sir Thomas Arnold, a British Orientalist and philosopher. Iqbal then went to England to study law at the University of Cambridge and the University of Oxford. While in England, he became involved in the Indian independence movement and met with other Indian Muslim leaders, such as Syed Ahmad Khan and Muhammad Ali Jinnah.\n",
            "\n",
            "After returning to India in 1908, Iqbal began to write poetry in Urdu and Persian. His early poems were mostly romantic in nature, but he soon began to write about political and social issues. In 1911, he published his first major work, the poem \"Bang-e-Dara\" (The Call of the Marching Bell), which called for the political and spiritual awakening of the Indian Muslims.\n",
            "\n",
            "Iqbal's poetry had a profound impact on the Indian Muslim community, and he soon became a leading figure in the Pakistan Movement. In 1930, he delivered his famous address at the All-India Muslim League session in Allahabad, in which he called for the creation of a separate Muslim state in India. This address is widely regarded as the starting point of the Pakistan Movement.\n",
            "\n",
            "Iqbal died in Lahore in 1938, but his legacy continues to live on. He is considered one of the most important figures in Urdu literature, and his poetry is still widely read and studied in Pakistan and India. He is also revered as a national hero in Pakistan, and his birthday is celebrated as a national holiday.\n",
            "\n",
            "Iqbal's poetry is characterized by its strong spiritual and philosophical content. He was deeply influenced by the teachings of Islam, and his poetry often reflects his mystical experiences. Iqbal also wrote extensively about the importance of self-reliance and the need for the Indian Muslims to be united and strong.\n",
            "\n",
            "Iqbal's legacy is complex and multifaceted. He is remembered as a great poet, a philosopher, a politician, and a visionary. His work has had a profound impact on the development of Muslim thought and culture, and he continues to be an inspiration to millions of people around the world.\n"
          ]
        }
      ],
      "source": [
        "import google.generativeai as genai\n",
        "\n",
        "# copy and paste your apikey\n",
        "# use this link for geminiapi https://makersuite.google.com/app/apikey\n",
        "genai.configure(api_key=\"\")\n",
        "\n",
        "# Set up the model\n",
        "generation_config = {\n",
        "  \"temperature\": 0.9,\n",
        "  \"top_p\": 1,\n",
        "  \"top_k\": 1,\n",
        "  \"max_output_tokens\": 2048,\n",
        "}\n",
        "\n",
        "safety_settings = [\n",
        "  {\n",
        "    \"category\": \"HARM_CATEGORY_HARASSMENT\",\n",
        "    \"threshold\": \"BLOCK_MEDIUM_AND_ABOVE\"\n",
        "  },\n",
        "  {\n",
        "    \"category\": \"HARM_CATEGORY_HATE_SPEECH\",\n",
        "    \"threshold\": \"BLOCK_MEDIUM_AND_ABOVE\"\n",
        "  },\n",
        "  {\n",
        "    \"category\": \"HARM_CATEGORY_SEXUALLY_EXPLICIT\",\n",
        "    \"threshold\": \"BLOCK_MEDIUM_AND_ABOVE\"\n",
        "  },\n",
        "  {\n",
        "    \"category\": \"HARM_CATEGORY_DANGEROUS_CONTENT\",\n",
        "    \"threshold\": \"BLOCK_MEDIUM_AND_ABOVE\"\n",
        "  }\n",
        "]\n",
        "\n",
        "model = genai.GenerativeModel(model_name=\"gemini-pro\",\n",
        "                              generation_config=generation_config,\n",
        "                              safety_settings=safety_settings)\n",
        "\n",
        "prompt_parts = [\n",
        "  \"who is allamaiqbal??\",\n",
        "]\n",
        "\n",
        "response = model.generate_content(prompt_parts)\n",
        "print(response.text)"
      ]
    },
    {
      "cell_type": "code",
      "source": [],
      "metadata": {
        "id": "NA55Ks6BAE_N"
      },
      "execution_count": null,
      "outputs": []
    }
  ]
}